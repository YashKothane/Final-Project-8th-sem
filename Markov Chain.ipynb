{
 "cells": [
  {
   "cell_type": "code",
   "execution_count": 1,
   "id": "f760b93f",
   "metadata": {},
   "outputs": [
    {
     "name": "stdout",
     "output_type": "stream",
     "text": [
      "Attribution for Touchpoint A: 2.161459127165574\n",
      "Attribution for Touchpoint B: 1.788142051516537\n",
      "Attribution for Touchpoint C: 2.01920438957476\n",
      "Attribution for Touchpoint D: 1.2962962962962963\n"
     ]
    }
   ],
   "source": [
    "import pandas as pd\n",
    "import numpy as np\n",
    "\n",
    "# Sample customer journey data\n",
    "data = pd.DataFrame({\n",
    "    'customer_id': [1, 1, 2, 2, 3, 3, 3, 4, 4, 4, 4],\n",
    "    'touchpoint': ['A', 'B', 'A', 'C', 'B', 'C', 'D', 'A', 'B', 'C', 'D'],\n",
    "    'conversion': [0, 0, 0, 0, 0, 1, 0, 0, 0, 1, 0]\n",
    "})\n",
    "\n",
    "# Create a transition matrix\n",
    "transition_matrix = pd.crosstab(data['touchpoint'].shift(), data['touchpoint'], normalize='index')\n",
    "transition_matrix = transition_matrix.fillna(0).values\n",
    "\n",
    "# Initialize the attribution vector\n",
    "attribution_vector = np.zeros(transition_matrix.shape[0])\n",
    "\n",
    "# Set the last touchpoint as the conversion point\n",
    "conversion_point = data['touchpoint'].iloc[-1]\n",
    "\n",
    "# Find the index of the conversion point\n",
    "conversion_index = data['touchpoint'].unique().tolist().index(conversion_point)\n",
    "\n",
    "# Set the attribution score for the conversion point to 1\n",
    "attribution_vector[conversion_index] = 1\n",
    "\n",
    "# Propagate the attribution scores backward through the transition matrix\n",
    "for i in range(len(data)-2, -1, -1):\n",
    "    touchpoint = data['touchpoint'].iloc[i]\n",
    "    touchpoint_index = data['touchpoint'].unique().tolist().index(touchpoint)\n",
    "    next_touchpoint = data['touchpoint'].iloc[i+1]\n",
    "    next_touchpoint_index = data['touchpoint'].unique().tolist().index(next_touchpoint)\n",
    "    attribution_vector[touchpoint_index] += attribution_vector[next_touchpoint_index] * transition_matrix[touchpoint_index, next_touchpoint_index]\n",
    "\n",
    "# Print the attribution scores\n",
    "touchpoints = data['touchpoint'].unique().tolist()\n",
    "for i, touchpoint in enumerate(touchpoints):\n",
    "    print(f\"Attribution for Touchpoint {touchpoint}: {attribution_vector[i]}\")\n"
   ]
  },
  {
   "cell_type": "code",
   "execution_count": null,
   "id": "73019418",
   "metadata": {},
   "outputs": [],
   "source": []
  }
 ],
 "metadata": {
  "kernelspec": {
   "display_name": "Python 3 (ipykernel)",
   "language": "python",
   "name": "python3"
  },
  "language_info": {
   "codemirror_mode": {
    "name": "ipython",
    "version": 3
   },
   "file_extension": ".py",
   "mimetype": "text/x-python",
   "name": "python",
   "nbconvert_exporter": "python",
   "pygments_lexer": "ipython3",
   "version": "3.10.1"
  }
 },
 "nbformat": 4,
 "nbformat_minor": 5
}
